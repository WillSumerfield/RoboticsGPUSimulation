{
 "cells": [
  {
   "cell_type": "markdown",
   "id": "0df4a9e6",
   "metadata": {},
   "source": [
    "## Test Co-Design FPS\n",
    "This file tests the average FPS of the IsaacLab envs. <br>\n",
    "It tests both the FPS for classic RL training on the tasks as well as the Co-Design FPS,<br>\n",
    "which may differ due to the reset times between loading unique morphologies."
   ]
  },
  {
   "cell_type": "code",
   "execution_count": 1,
   "id": "e5f99957",
   "metadata": {},
   "outputs": [],
   "source": [
    "import time\n",
    "import subprocess"
   ]
  },
  {
   "cell_type": "code",
   "execution_count": null,
   "id": "d20c99a5",
   "metadata": {},
   "outputs": [],
   "source": [
    "# EA parameters\n",
    "timesteps_per_generation=3e5\n",
    "pop_size = 8\n",
    "generations = 3\n",
    "ENV_COUNT = 1024\n",
    "\n",
    "def print_stats(start_time, end_time):\n",
    "    time_diff = end_time - start_time\n",
    "    print(f\"Time taken: {time_diff} seconds, average FPS: {(timesteps_per_generation*pop_size*3)/(time_diff*ENV_COUNT)}\")"
   ]
  },
  {
   "cell_type": "markdown",
   "id": "90f7b905",
   "metadata": {},
   "source": [
    "### IsaacLab Testing"
   ]
  },
  {
   "cell_type": "markdown",
   "id": "e7b3ec18",
   "metadata": {},
   "source": [
    "#### Regular RL FPS"
   ]
  },
  {
   "cell_type": "code",
   "execution_count": null,
   "id": "5dad0868",
   "metadata": {},
   "outputs": [],
   "source": [
    "start_time = time.time()\n",
    "result = subprocess.run([\"python\", \"sb3/train.py\", \"--task\", \"Grasp-Object\", \n",
    "                         \"--headless\", \"--num_envs\", \"1024\", \"--seed\", \"200\",], \n",
    "                        capture_output=True, text=True)\n",
    "end_time = time.time()\n",
    "print_stats(start_time, end_time)"
   ]
  },
  {
   "cell_type": "markdown",
   "id": "7ee236da",
   "metadata": {},
   "source": [
    "#### Co-Design FPS"
   ]
  },
  {
   "cell_type": "code",
   "execution_count": null,
   "id": "f9e75663",
   "metadata": {},
   "outputs": [],
   "source": [
    "start_time = time.time()\n",
    "result = subprocess.run([\"python\", \"population_evolution.py\", \"--task\", \"Grasp-Object\", \n",
    "                         \"--headless\", \"--num_envs\", \"1024\", \"--seed\", \"200\", \n",
    "                         \"--generations\", f\"{int(generations)}\", \"--population_size\", f\"{int(pop_size)}\", \n",
    "                         \"--timesteps_per_agent\", f\"{int(timesteps_per_generation)}\", \"--mutation_rate\", \"0\"],\n",
    "                        capture_output=True, text=True)\n",
    "end_time = time.time()\n",
    "print_stats(start_time, end_time)"
   ]
  }
 ],
 "metadata": {
  "kernelspec": {
   "display_name": "IsaacEnv",
   "language": "python",
   "name": "python3"
  },
  "language_info": {
   "codemirror_mode": {
    "name": "ipython",
    "version": 3
   },
   "file_extension": ".py",
   "mimetype": "text/x-python",
   "name": "python",
   "nbconvert_exporter": "python",
   "pygments_lexer": "ipython3",
   "version": "3.10.18"
  }
 },
 "nbformat": 4,
 "nbformat_minor": 5
}

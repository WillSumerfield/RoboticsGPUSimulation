{
 "cells": [
  {
   "cell_type": "markdown",
   "id": "0df4a9e6",
   "metadata": {},
   "source": [
    "## Test Co-Design FPS\n",
    "This file tests the average FPS of the IsaacLab envs. <br>\n",
    "It tests both the FPS for classic RL training on the tasks as well as the Co-Design FPS,<br>\n",
    "which may differ due to the reset times between loading unique morphologies."
   ]
  },
  {
   "cell_type": "code",
   "execution_count": 1,
   "id": "e5f99957",
   "metadata": {},
   "outputs": [],
   "source": [
    "import time\n",
    "import subprocess\n",
    "import os\n",
    "\n",
    "from stable_baselines3 import PPO"
   ]
  },
  {
   "cell_type": "code",
   "execution_count": 2,
   "id": "d20c99a5",
   "metadata": {},
   "outputs": [],
   "source": [
    "# EA parameters\n",
    "timesteps_per_generation=13e4\n",
    "pop_size = 8\n",
    "generations = 3\n",
    "ENV_COUNT = 1024\n",
    "\n",
    "def print_stats(start_time, end_time, timesteps):\n",
    "    time_diff = end_time - start_time\n",
    "    print(f\"Time taken: {time_diff} seconds, average FPS: {timesteps/(time_diff*ENV_COUNT)}\")"
   ]
  },
  {
   "cell_type": "markdown",
   "id": "90f7b905",
   "metadata": {},
   "source": [
    "### IsaacLab Testing"
   ]
  },
  {
   "cell_type": "markdown",
   "id": "e7b3ec18",
   "metadata": {},
   "source": [
    "#### Regular RL FPS"
   ]
  },
  {
   "cell_type": "code",
   "execution_count": null,
   "id": "5dad0868",
   "metadata": {},
   "outputs": [
    {
     "ename": "FileNotFoundError",
     "evalue": "[WinError 3] The system cannot find the path specified: 'logs/sb3/Grasp-Object'",
     "output_type": "error",
     "traceback": [
      "\u001b[1;31m---------------------------------------------------------------------------\u001b[0m",
      "\u001b[1;31mFileNotFoundError\u001b[0m                         Traceback (most recent call last)",
      "Cell \u001b[1;32mIn[3], line 10\u001b[0m\n\u001b[0;32m      8\u001b[0m \u001b[38;5;66;03m# Find the latest model path\u001b[39;00m\n\u001b[0;32m      9\u001b[0m base_dir \u001b[38;5;241m=\u001b[39m \u001b[38;5;124m\"\u001b[39m\u001b[38;5;124mlogs/sb3/Grasp-Object\u001b[39m\u001b[38;5;124m\"\u001b[39m\n\u001b[1;32m---> 10\u001b[0m model_dir \u001b[38;5;241m=\u001b[39m \u001b[43mos\u001b[49m\u001b[38;5;241;43m.\u001b[39;49m\u001b[43mlistdir\u001b[49m\u001b[43m(\u001b[49m\u001b[43mbase_dir\u001b[49m\u001b[43m)\u001b[49m[\u001b[38;5;241m-\u001b[39m\u001b[38;5;241m1\u001b[39m]\n\u001b[0;32m     11\u001b[0m model_path \u001b[38;5;241m=\u001b[39m os\u001b[38;5;241m.\u001b[39mpath\u001b[38;5;241m.\u001b[39mjoin(base_dir, model_dir, \u001b[38;5;124m\"\u001b[39m\u001b[38;5;124mmodel.zip\u001b[39m\u001b[38;5;124m\"\u001b[39m)\n\u001b[0;32m     12\u001b[0m model \u001b[38;5;241m=\u001b[39m PPO\u001b[38;5;241m.\u001b[39mload(model_path)\n",
      "\u001b[1;31mFileNotFoundError\u001b[0m: [WinError 3] The system cannot find the path specified: 'logs/sb3/Grasp-Object'"
     ]
    }
   ],
   "source": [
    "start_time = time.time()\n",
    "result = subprocess.run([\"python\", \"sb3/train.py\", \"--task\", \"Grasp-Object\", \n",
    "                         \"--headless\", \"--num_envs\", \"1024\", \"--seed\", \"200\",\n",
    "                         \"--max_steps\", f\"{timesteps_per_generation*generations*pop_size}\"], \n",
    "                        capture_output=True, text=True)\n",
    "end_time = time.time()\n",
    "print(result.stdout)\n",
    "\n",
    "# Find the latest model path\n",
    "base_dir = \"logs/sb3/Grasp-Object\"\n",
    "model_dir = os.listdir(base_dir)[-1]\n",
    "model_path = os.path.join(base_dir, model_dir, \"model.zip\")\n",
    "model = PPO.load(model_path)\n",
    "\n",
    "print_stats(start_time, end_time, model.num_timesteps)"
   ]
  },
  {
   "cell_type": "markdown",
   "id": "7ee236da",
   "metadata": {},
   "source": [
    "#### Co-Design FPS"
   ]
  },
  {
   "cell_type": "code",
   "execution_count": null,
   "id": "f9e75663",
   "metadata": {},
   "outputs": [
    {
     "ename": "AttributeError",
     "evalue": "module 'os' has no attribute 'join'",
     "output_type": "error",
     "traceback": [
      "\u001b[1;31m---------------------------------------------------------------------------\u001b[0m",
      "\u001b[1;31mAttributeError\u001b[0m                            Traceback (most recent call last)",
      "Cell \u001b[1;32mIn[7], line 12\u001b[0m\n\u001b[0;32m     10\u001b[0m base_dir \u001b[38;5;241m=\u001b[39m \u001b[38;5;124m\"\u001b[39m\u001b[38;5;124mlogs/sb3/population_evolution/grasp_object\u001b[39m\u001b[38;5;124m\"\u001b[39m\n\u001b[0;32m     11\u001b[0m model_dirs \u001b[38;5;241m=\u001b[39m os\u001b[38;5;241m.\u001b[39mlistdir(base_dir)\n\u001b[1;32m---> 12\u001b[0m model_paths \u001b[38;5;241m=\u001b[39m [os\u001b[38;5;241m.\u001b[39mjoin(base_dir, d, \u001b[38;5;124mf\u001b[39m\u001b[38;5;124m\"\u001b[39m\u001b[38;5;132;01m{\u001b[39;00md\u001b[38;5;132;01m}\u001b[39;00m\u001b[38;5;124m_gen_10.zip\u001b[39m\u001b[38;5;124m\"\u001b[39m) \u001b[38;5;28;01mfor\u001b[39;00m d \u001b[38;5;129;01min\u001b[39;00m model_dirs]\n\u001b[0;32m     13\u001b[0m models_timesteps \u001b[38;5;241m=\u001b[39m \u001b[38;5;28msum\u001b[39m([PPO\u001b[38;5;241m.\u001b[39mload(p)\u001b[38;5;241m.\u001b[39mnum_timesteps \u001b[38;5;28;01mfor\u001b[39;00m p \u001b[38;5;129;01min\u001b[39;00m model_paths])\n\u001b[0;32m     15\u001b[0m print_stats(start_time, end_time)\n",
      "Cell \u001b[1;32mIn[7], line 12\u001b[0m, in \u001b[0;36m<listcomp>\u001b[1;34m(.0)\u001b[0m\n\u001b[0;32m     10\u001b[0m base_dir \u001b[38;5;241m=\u001b[39m \u001b[38;5;124m\"\u001b[39m\u001b[38;5;124mlogs/sb3/population_evolution/grasp_object\u001b[39m\u001b[38;5;124m\"\u001b[39m\n\u001b[0;32m     11\u001b[0m model_dirs \u001b[38;5;241m=\u001b[39m os\u001b[38;5;241m.\u001b[39mlistdir(base_dir)\n\u001b[1;32m---> 12\u001b[0m model_paths \u001b[38;5;241m=\u001b[39m [\u001b[43mos\u001b[49m\u001b[38;5;241;43m.\u001b[39;49m\u001b[43mjoin\u001b[49m(base_dir, d, \u001b[38;5;124mf\u001b[39m\u001b[38;5;124m\"\u001b[39m\u001b[38;5;132;01m{\u001b[39;00md\u001b[38;5;132;01m}\u001b[39;00m\u001b[38;5;124m_gen_10.zip\u001b[39m\u001b[38;5;124m\"\u001b[39m) \u001b[38;5;28;01mfor\u001b[39;00m d \u001b[38;5;129;01min\u001b[39;00m model_dirs]\n\u001b[0;32m     13\u001b[0m models_timesteps \u001b[38;5;241m=\u001b[39m \u001b[38;5;28msum\u001b[39m([PPO\u001b[38;5;241m.\u001b[39mload(p)\u001b[38;5;241m.\u001b[39mnum_timesteps \u001b[38;5;28;01mfor\u001b[39;00m p \u001b[38;5;129;01min\u001b[39;00m model_paths])\n\u001b[0;32m     15\u001b[0m print_stats(start_time, end_time)\n",
      "\u001b[1;31mAttributeError\u001b[0m: module 'os' has no attribute 'join'"
     ]
    }
   ],
   "source": [
    "start_time = time.time()\n",
    "result = subprocess.run([\"python\", \"population_evolution.py\", \"--task\", \"Grasp-Object\", \n",
    "                         \"--headless\", \"--num_envs\", \"1024\", \"--seed\", \"200\", \n",
    "                         \"--generations\", f\"{int(generations)}\", \"--population_size\", f\"{int(pop_size)}\", \n",
    "                         \"--timesteps_per_agent\", f\"{int(timesteps_per_generation)}\", \"--mutation_rate\", \"0\"],\n",
    "                        capture_output=True, text=True)\n",
    "end_time = time.time()\n",
    "\n",
    "# Find the latest model path\n",
    "base_dir = \"logs/sb3/population_evolution/grasp_object\"\n",
    "model_dirs = os.listdir(base_dir)\n",
    "model_paths = [os.path.join(base_dir, d, f\"{d}_gen_10.zip\") for d in model_dirs]\n",
    "models_timesteps = sum([PPO.load(p).num_timesteps for p in model_paths])\n",
    "\n",
    "print_stats(start_time, end_time)"
   ]
  }
 ],
 "metadata": {
  "kernelspec": {
   "display_name": "IsaacEnv",
   "language": "python",
   "name": "python3"
  },
  "language_info": {
   "codemirror_mode": {
    "name": "ipython",
    "version": 3
   },
   "file_extension": ".py",
   "mimetype": "text/x-python",
   "name": "python",
   "nbconvert_exporter": "python",
   "pygments_lexer": "ipython3",
   "version": "3.10.18"
  }
 },
 "nbformat": 4,
 "nbformat_minor": 5
}

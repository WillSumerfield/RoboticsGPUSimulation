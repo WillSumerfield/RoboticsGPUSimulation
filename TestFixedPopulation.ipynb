{
 "cells": [
  {
   "cell_type": "markdown",
   "id": "2b34c1da",
   "metadata": {},
   "source": [
    "## Co-Design vs Fixed Population\n",
    "This experiment measures the impact of using a population of individuals,<br>\n",
    "so we can measure how much of the improvement is due to morphological adaptation.<br>\n",
    "\n",
    "This experiment works by simply running the co-design algorithm with no mutation rate,<br>\n",
    "and with no initial parameter randomization (all individuals are the classic claw gripper).\n",
    "\n",
    "We can compare the performance improvement of this 'Fixed population\" vs the classic Fixed agent,<br>\n",
    "vs the Co-Designed solution. This should demonstrate the effect of using a population, and of morphological optimization."
   ]
  },
  {
   "cell_type": "code",
   "execution_count": 1,
   "id": "db7e81a4",
   "metadata": {},
   "outputs": [],
   "source": [
    "import os\n",
    "import subprocess\n",
    "\n",
    "import seaborn as sns\n",
    "import matplotlib.pyplot as plt\n",
    "import numpy as np"
   ]
  },
  {
   "cell_type": "markdown",
   "id": "f1a3f4d7",
   "metadata": {},
   "source": [
    "### Run the Fixed Population Method"
   ]
  },
  {
   "cell_type": "code",
   "execution_count": 2,
   "id": "563839b7",
   "metadata": {},
   "outputs": [],
   "source": [
    "generations = 10\n",
    "pop_size = 8"
   ]
  },
  {
   "cell_type": "code",
   "execution_count": 6,
   "id": "cb9b42a0",
   "metadata": {},
   "outputs": [],
   "source": [
    "result = subprocess.run([\"python\", \"scripts/population_evolution.py\", \"--task\", \"Grasp-Object\", \n",
    "                         \"--headless\", \"--num_envs\", \"1024\", \"--seed\", \"200\", \n",
    "                         \"--generations\", f\"{int(generations)}\", \"--population_size\", f\"{int(pop_size)}\", \n",
    "                         \"--mutation_rate\", \"0\", \"--disable_param_randomization\"],\n",
    "                        capture_output=True, text=True)"
   ]
  },
  {
   "cell_type": "code",
   "execution_count": 19,
   "id": "949a89b3",
   "metadata": {},
   "outputs": [],
   "source": [
    "# Evaluate the agent\n",
    "result = subprocess.run([\"python\", \"scripts/evaluate_agent.py\", \"--agent_type\", \"evolution\", \"--task\", \"Grasp-Object\", \n",
    "                         \"--headless\", \"--num_envs\", \"1024\", \"--train_date\", \"2025-09-02_12-32-41\",\n",
    "                         \"--agent_id\", \"1\", \"--generation\", \"10\"],\n",
    "                         capture_output=True, text=True)"
   ]
  },
  {
   "cell_type": "code",
   "execution_count": 20,
   "id": "2238cb2d",
   "metadata": {},
   "outputs": [
    {
     "name": "stdout",
     "output_type": "stream",
     "text": [
      "[INFO][AppLauncher]: Using device: cuda:0\n",
      "[INFO][AppLauncher]: Loading experience file: C:\\Users\\Ink\\Hub\\Projects\\IsaacEnv\\IsaacLab\\apps\\isaaclab.python.headless.kit\n",
      "[Warning] [simulation_app.simulation_app] Modules: ['omni.kit_app'] were loaded before SimulationApp was started and might not be loaded correctly.\n",
      "[Warning] [simulation_app.simulation_app] Please check to make sure no extra omniverse or pxr modules are imported before the call to SimulationApp(...)\n",
      "Loading user config located at: 'c:/users/ink/miniconda3/envs/isaacenv/lib/site-packages/omni/data/Kit/Isaac-Sim/4.5/user.config.json'\n",
      "[Info] [carb] Logging to file: c:/users/ink/miniconda3/envs/isaacenv/lib/site-packages/omni/logs/Kit/Isaac-Sim/4.5/kit_20250902_201333.log\n",
      "2025-09-02 19:13:33 [0ms] [Warning] [omni.kit.app.plugin] No crash reporter present, dumps uploading isn't available.\n",
      "2025-09-02 19:13:33 [10ms] [Warning] [omni.ext.plugin] [ext: rendering_modes] Extensions config 'extension.toml' doesn't exist 'c:/users/ink/hub/projects/isaacenv/isaaclab/apps/rendering_modes' or 'c:/users/ink/hub/projects/isaacenv/isaaclab/apps/rendering_modes/config'\n",
      "2025-09-02 19:13:33 [208ms] [Warning] [omni.usd_config.extension] Enable omni.materialx.libs extension to use MaterialX\n",
      "2025-09-02 19:13:33 [588ms] [Warning] [omni.datastore] OmniHub is inaccessible\n",
      "2025-09-02 19:13:33 [622ms] [Warning] [omni.isaac.dynamic_control] omni.isaac.dynamic_control is deprecated as of Isaac Sim 4.5. No action is needed from end-users.\n",
      "2025-09-02 19:13:34 [1,494ms] [Warning] [pxr.Semantics] pxr.Semantics is deprecated - please use Semantics instead\n",
      "\n",
      "|---------------------------------------------------------------------------------------------|\n",
      "| Driver Version: 576.88        | Graphics API: D3D12\n",
      "|=============================================================================================|\n",
      "| GPU | Name                             | Active | LDA | GPU Memory | Vendor-ID | LUID       |\n",
      "|     |                                  |        |     |            | Device-ID | UUID       |\n",
      "|     |                                  |        |     |            | Bus-ID    |            |\n",
      "|---------------------------------------------------------------------------------------------|\n",
      "| 0   | NVIDIA GeForce RTX 4090          | Yes: 0 |     | 24142   MB | 10de      | 71e40000.. |\n",
      "|     |                                  |        |     |            | 2684      | 0          |\n",
      "|     |                                  |        |     |            | 1         |            |\n",
      "|=============================================================================================|\n",
      "| OS: Windows 11 Pro, Version: 10.0 (24H2), Build: 26100, Kernel: 10.0.26100.4946\n",
      "| Processor: 13th Gen Intel(R) Core(TM) i9-13900K\n",
      "| Cores: 24 | Logical Cores: 32\n",
      "|---------------------------------------------------------------------------------------------|\n",
      "| Total Memory (MB): 32508 | Free Memory: 13312\n",
      "| Total Page/Swap (MB): 67324 | Free Page/Swap: 21869\n",
      "|---------------------------------------------------------------------------------------------|\n",
      "[INFO]: Parsing configuration from: IsaacEnv.tasks.direct.grasp_object.grasp_object_cfg:GraspObjectEnvCfg\n",
      "[INFO]: Parsing configuration from: C:\\Users\\Ink\\Hub\\Projects\\IsaacEnv\\source\\IsaacEnv\\IsaacEnv\\tasks\\direct\\grasp_object\\agents\\sb3_ppo_cfg.yaml\n",
      "Running evaluation for Grasp-Object - 2025-09-02_12-32-41: agent 1, generation 10\n",
      "Setting seed: 200\n",
      "[INFO]: Base environment:\n",
      "\tEnvironment device    : cuda:0\n",
      "\tEnvironment seed      : 200\n",
      "\tPhysics step-size     : 0.016666666666666666\n",
      "\tRendering step-size   : 0.03333333333333333\n",
      "\tEnvironment step-size : 0.03333333333333333\n",
      "[INFO]: Time taken for scene creation : 0.892922 seconds\n",
      "[INFO]: Scene manager:  <class InteractiveScene>\n",
      "\tNumber of environments: 1024\n",
      "\tEnvironment spacing   : 10.0\n",
      "\tSource prim name      : /World/envs/env_0\n",
      "\tGlobal prim paths     : []\n",
      "\tReplicate physics     : True\n",
      "[INFO]: Starting the simulation. This may take a few seconds. Please wait...\n",
      "2025-09-02 19:13:40 [6,800ms] [Warning] [omni.physx.plugin] The rigid body at /World/envs/env_0/Robot/planar_slider/x_slide has a possibly invalid inertia tensor of {1.0, 1.0, 1.0} and a negative mass, small sphere approximated inertia was used. Either specify correct values in the mass properties, or add collider(s) to any shape(s) that you wish to automatically compute mass properties for.\n",
      "2025-09-02 19:13:40 [6,800ms] [Warning] [omni.physx.plugin] The rigid body at /World/envs/env_0/Robot/planar_slider/y_slide has a possibly invalid inertia tensor of {1.0, 1.0, 1.0} and a negative mass, small sphere approximated inertia was used. Either specify correct values in the mass properties, or add collider(s) to any shape(s) that you wish to automatically compute mass properties for.\n",
      "2025-09-02 19:13:40 [6,800ms] [Warning] [omni.physx.plugin] The rigid body at /World/envs/env_0/Robot/planar_slider/z_slide has a possibly invalid inertia tensor of {1.0, 1.0, 1.0} and a negative mass, small sphere approximated inertia was used. Either specify correct values in the mass properties, or add collider(s) to any shape(s) that you wish to automatically compute mass properties for.\n",
      "[INFO]: Time taken for simulation start : 0.855657 seconds\n",
      "[INFO]: Completed setting up the environment...\n",
      "Setting seed: 44\n",
      "Episode 1/10 complete - 1089.953 reward, 347.867 std\n",
      "Episode 2/10 complete - 679.258 reward, 432.058 std\n",
      "Episode 3/10 complete - 712.292 reward, 447.040 std\n",
      "Episode 4/10 complete - 722.285 reward, 447.907 std\n",
      "Episode 5/10 complete - 707.812 reward, 440.284 std\n",
      "Episode 6/10 complete - 691.347 reward, 439.638 std\n",
      "Episode 7/10 complete - 691.227 reward, 434.183 std\n",
      "Episode 8/10 complete - 680.392 reward, 440.106 std\n",
      "Episode 9/10 complete - 707.432 reward, 436.536 std\n",
      "Episode 10/10 complete - 685.909 reward, 431.927 std\n",
      "Average reward over 10 episodes: 736.791 ± 446.662\n",
      " c:\\Users\\Ink\\miniconda3\\envs\\IsaacEnv\\lib\\site-packages\\wandb\\sdk\\internal\\internal_api.py:13: DeprecationWarning: pkg_resources is deprecated as an API. See https://setuptools.pypa.io/en/latest/pkg_resources.html\n",
      "  from pkg_resources import parse_version\n",
      "c:\\Users\\Ink\\miniconda3\\envs\\IsaacEnv\\lib\\site-packages\\pkg_resources\\__init__.py:3147: DeprecationWarning: Deprecated call to `pkg_resources.declare_namespace('google')`.\n",
      "Implementing implicit namespace packages (as specified in PEP 420) is preferred to `pkg_resources.declare_namespace`. See https://setuptools.pypa.io/en/latest/references/keywords.html#keyword-namespace-packages\n",
      "  declare_namespace(pkg)\n",
      "c:\\Users\\Ink\\miniconda3\\envs\\IsaacEnv\\lib\\site-packages\\stable_baselines3\\common\\on_policy_algorithm.py:150: UserWarning: You are trying to run PPO on the GPU, but it is primarily intended to run on the CPU when not using a CNN policy (you are using ActorCriticPolicy which should be a MlpPolicy). See https://github.com/DLR-RM/stable-baselines3/issues/1245 for more info. You can pass `device='cpu'` or `export CUDA_VISIBLE_DEVICES=` to force using the CPU.Note: The model will train, but the GPU utilization will be poor and the training might take longer than on CPU.\n",
      "  warnings.warn(\n",
      "\n"
     ]
    }
   ],
   "source": [
    "print(result.stdout, result.stderr)"
   ]
  }
 ],
 "metadata": {
  "kernelspec": {
   "display_name": "IsaacEnv",
   "language": "python",
   "name": "python3"
  },
  "language_info": {
   "codemirror_mode": {
    "name": "ipython",
    "version": 3
   },
   "file_extension": ".py",
   "mimetype": "text/x-python",
   "name": "python",
   "nbconvert_exporter": "python",
   "pygments_lexer": "ipython3",
   "version": "3.10.18"
  }
 },
 "nbformat": 4,
 "nbformat_minor": 5
}
